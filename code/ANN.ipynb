{
  "nbformat": 4,
  "nbformat_minor": 0,
  "metadata": {
    "colab": {
      "name": "ANN",
      "provenance": [],
      "collapsed_sections": []
    },
    "kernelspec": {
      "name": "python3",
      "display_name": "Python 3"
    }
  },
  "cells": [
    {
      "cell_type": "markdown",
      "metadata": {
        "id": "3cbb7fRy-eyr"
      },
      "source": [
        "# Artificial Neural Network"
      ]
    },
    {
      "cell_type": "markdown",
      "metadata": {
        "id": "8sNDnxE2-pwE"
      },
      "source": [
        "### Importing the libraries"
      ]
    },
    {
      "cell_type": "code",
      "source": [
        "import numpy as np\n",
        "import pandas as pd\n",
        "import tensorflow as tf"
      ],
      "metadata": {
        "id": "Vv2mQ_fru6Wb"
      },
      "execution_count": null,
      "outputs": []
    },
    {
      "cell_type": "markdown",
      "metadata": {
        "id": "AG3FQEch-yuA"
      },
      "source": [
        "## Part 1 - Data Preprocessing"
      ]
    },
    {
      "cell_type": "markdown",
      "metadata": {
        "id": "-4zq8Mza_D9O"
      },
      "source": [
        "### Importing the dataset"
      ]
    },
    {
      "cell_type": "code",
      "source": [
        "dataset = pd.read_excel('Folds5x2_pp.xlsx')\n",
        "X = dataset.iloc[:, :-1].values\n",
        "y = dataset.iloc[:, -1].values"
      ],
      "metadata": {
        "id": "Gqj9bZ5xu656"
      },
      "execution_count": null,
      "outputs": []
    },
    {
      "cell_type": "markdown",
      "metadata": {
        "id": "VC6omXel_Up0"
      },
      "source": [
        "### Splitting the dataset into the Training set and Test set"
      ]
    },
    {
      "cell_type": "code",
      "source": [
        "from sklearn.model_selection import train_test_split\n",
        "X_train, X_test, y_train, y_test = train_test_split(X, y, test_size = 0.2, random_state = 0)"
      ],
      "metadata": {
        "id": "S4W0U_9fu7ZT"
      },
      "execution_count": null,
      "outputs": []
    },
    {
      "cell_type": "markdown",
      "source": [
        "### Feature Scaling"
      ],
      "metadata": {
        "id": "s54ZHCcmyn31"
      }
    },
    {
      "cell_type": "code",
      "source": [
        "from sklearn.preprocessing import StandardScaler\n",
        "sc = StandardScaler()\n",
        "X_train = sc.fit_transform(X_train)\n",
        "X_test = sc.transform(X_test)"
      ],
      "metadata": {
        "id": "VChq_rDdypmN"
      },
      "execution_count": null,
      "outputs": []
    },
    {
      "cell_type": "markdown",
      "metadata": {
        "id": "_mSLlAT9_eyI"
      },
      "source": [
        "## Part 2 - Building the ANN"
      ]
    },
    {
      "cell_type": "markdown",
      "metadata": {
        "id": "CsBULd_f_wLY"
      },
      "source": [
        "### Initializing the ANN"
      ]
    },
    {
      "cell_type": "code",
      "source": [
        "ann = tf.keras.models.Sequential()"
      ],
      "metadata": {
        "id": "sKk2AvU1u8B4"
      },
      "execution_count": null,
      "outputs": []
    },
    {
      "cell_type": "markdown",
      "metadata": {
        "id": "iitAFJS_ABUn"
      },
      "source": [
        "### Adding the input layer and the first hidden layer"
      ]
    },
    {
      "cell_type": "code",
      "source": [
        "ann.add(tf.keras.layers.Dense(units = 6, activation='relu'))"
      ],
      "metadata": {
        "id": "7-VIFZNPu8rX"
      },
      "execution_count": null,
      "outputs": []
    },
    {
      "cell_type": "markdown",
      "metadata": {
        "id": "-lb4kK_wAKbs"
      },
      "source": [
        "### Adding the second hidden layer"
      ]
    },
    {
      "cell_type": "code",
      "source": [
        "ann.add(tf.keras.layers.Dense(units = 6, activation='relu'))"
      ],
      "metadata": {
        "id": "oXbzo8PUu9UA"
      },
      "execution_count": null,
      "outputs": []
    },
    {
      "cell_type": "markdown",
      "metadata": {
        "id": "jwMOmKb3AdBY"
      },
      "source": [
        "### Adding the output layer"
      ]
    },
    {
      "cell_type": "code",
      "source": [
        "ann.add(tf.keras.layers.Dense(units = 1))"
      ],
      "metadata": {
        "id": "I5VUt5gCu9z0"
      },
      "execution_count": null,
      "outputs": []
    },
    {
      "cell_type": "markdown",
      "metadata": {
        "id": "fq7e4fF6A1yy"
      },
      "source": [
        "## Part 3 - Training the ANN"
      ]
    },
    {
      "cell_type": "markdown",
      "metadata": {
        "id": "qDeylAs2An25"
      },
      "source": [
        "### Compiling the ANN"
      ]
    },
    {
      "cell_type": "code",
      "source": [
        "ann.compile(optimizer = 'adam', loss = 'mean_squared_error') "
      ],
      "metadata": {
        "id": "5NUVLz3Uu-d7"
      },
      "execution_count": null,
      "outputs": []
    },
    {
      "cell_type": "markdown",
      "metadata": {
        "id": "YjVuiybYOo7r"
      },
      "source": [
        "### Training the ANN model on the Training set"
      ]
    },
    {
      "cell_type": "code",
      "source": [
        "ann.fit(X_train, y_train, batch_size = 32, epochs = 100)"
      ],
      "metadata": {
        "colab": {
          "base_uri": "https://localhost:8080/"
        },
        "id": "Zr7sUzlBu-7w",
        "outputId": "96a51c1c-5fa8-47b4-c5ea-79dc7790eab6"
      },
      "execution_count": null,
      "outputs": [
        {
          "output_type": "stream",
          "name": "stdout",
          "text": [
            "Epoch 1/100\n",
            "240/240 [==============================] - 1s 1ms/step - loss: 203743.2344\n",
            "Epoch 2/100\n",
            "240/240 [==============================] - 0s 1ms/step - loss: 189159.8125\n",
            "Epoch 3/100\n",
            "240/240 [==============================] - 0s 1ms/step - loss: 147714.4844\n",
            "Epoch 4/100\n",
            "240/240 [==============================] - 0s 1ms/step - loss: 87112.3750\n",
            "Epoch 5/100\n",
            "240/240 [==============================] - 0s 1ms/step - loss: 40505.7734\n",
            "Epoch 6/100\n",
            "240/240 [==============================] - 0s 1ms/step - loss: 21974.1797\n",
            "Epoch 7/100\n",
            "240/240 [==============================] - 0s 1ms/step - loss: 15991.3701\n",
            "Epoch 8/100\n",
            "240/240 [==============================] - 0s 1ms/step - loss: 12269.5352\n",
            "Epoch 9/100\n",
            "240/240 [==============================] - 0s 1ms/step - loss: 9082.4121\n",
            "Epoch 10/100\n",
            "240/240 [==============================] - 0s 1ms/step - loss: 6422.4824\n",
            "Epoch 11/100\n",
            "240/240 [==============================] - 0s 1ms/step - loss: 4399.2339\n",
            "Epoch 12/100\n",
            "240/240 [==============================] - 0s 1ms/step - loss: 3007.6582\n",
            "Epoch 13/100\n",
            "240/240 [==============================] - 0s 1ms/step - loss: 2072.0632\n",
            "Epoch 14/100\n",
            "240/240 [==============================] - 0s 1ms/step - loss: 1438.2366\n",
            "Epoch 15/100\n",
            "240/240 [==============================] - 0s 1ms/step - loss: 1015.4216\n",
            "Epoch 16/100\n",
            "240/240 [==============================] - 0s 1ms/step - loss: 734.3543\n",
            "Epoch 17/100\n",
            "240/240 [==============================] - 0s 1ms/step - loss: 543.1254\n",
            "Epoch 18/100\n",
            "240/240 [==============================] - 0s 1ms/step - loss: 409.7988\n",
            "Epoch 19/100\n",
            "240/240 [==============================] - 0s 1ms/step - loss: 312.0082\n",
            "Epoch 20/100\n",
            "240/240 [==============================] - 0s 1ms/step - loss: 237.4568\n",
            "Epoch 21/100\n",
            "240/240 [==============================] - 0s 1ms/step - loss: 180.5166\n",
            "Epoch 22/100\n",
            "240/240 [==============================] - 0s 1ms/step - loss: 138.5855\n",
            "Epoch 23/100\n",
            "240/240 [==============================] - 0s 1ms/step - loss: 107.8249\n",
            "Epoch 24/100\n",
            "240/240 [==============================] - 0s 1ms/step - loss: 85.3072\n",
            "Epoch 25/100\n",
            "240/240 [==============================] - 0s 1ms/step - loss: 68.5644\n",
            "Epoch 26/100\n",
            "240/240 [==============================] - 0s 1ms/step - loss: 56.3861\n",
            "Epoch 27/100\n",
            "240/240 [==============================] - 0s 1ms/step - loss: 47.4121\n",
            "Epoch 28/100\n",
            "240/240 [==============================] - 0s 1ms/step - loss: 40.7229\n",
            "Epoch 29/100\n",
            "240/240 [==============================] - 0s 1ms/step - loss: 36.0040\n",
            "Epoch 30/100\n",
            "240/240 [==============================] - 0s 1ms/step - loss: 32.3311\n",
            "Epoch 31/100\n",
            "240/240 [==============================] - 0s 1ms/step - loss: 29.5867\n",
            "Epoch 32/100\n",
            "240/240 [==============================] - 0s 1ms/step - loss: 27.5394\n",
            "Epoch 33/100\n",
            "240/240 [==============================] - 0s 1ms/step - loss: 26.0374\n",
            "Epoch 34/100\n",
            "240/240 [==============================] - 0s 1ms/step - loss: 24.7887\n",
            "Epoch 35/100\n",
            "240/240 [==============================] - 0s 1ms/step - loss: 23.9436\n",
            "Epoch 36/100\n",
            "240/240 [==============================] - 0s 1ms/step - loss: 23.3713\n",
            "Epoch 37/100\n",
            "240/240 [==============================] - 0s 1ms/step - loss: 22.9099\n",
            "Epoch 38/100\n",
            "240/240 [==============================] - 0s 1ms/step - loss: 22.4947\n",
            "Epoch 39/100\n",
            "240/240 [==============================] - 0s 1ms/step - loss: 22.2516\n",
            "Epoch 40/100\n",
            "240/240 [==============================] - 0s 1ms/step - loss: 22.1926\n",
            "Epoch 41/100\n",
            "240/240 [==============================] - 0s 1ms/step - loss: 21.9090\n",
            "Epoch 42/100\n",
            "240/240 [==============================] - 0s 1ms/step - loss: 21.8650\n",
            "Epoch 43/100\n",
            "240/240 [==============================] - 0s 1ms/step - loss: 21.5639\n",
            "Epoch 44/100\n",
            "240/240 [==============================] - 0s 1ms/step - loss: 21.5013\n",
            "Epoch 45/100\n",
            "240/240 [==============================] - 0s 1ms/step - loss: 21.4518\n",
            "Epoch 46/100\n",
            "240/240 [==============================] - 0s 1ms/step - loss: 21.4636\n",
            "Epoch 47/100\n",
            "240/240 [==============================] - 0s 1ms/step - loss: 21.4293\n",
            "Epoch 48/100\n",
            "240/240 [==============================] - 0s 1ms/step - loss: 21.1531\n",
            "Epoch 49/100\n",
            "240/240 [==============================] - 0s 1ms/step - loss: 21.2527\n",
            "Epoch 50/100\n",
            "240/240 [==============================] - 0s 1ms/step - loss: 21.1122\n",
            "Epoch 51/100\n",
            "240/240 [==============================] - 0s 1ms/step - loss: 21.1957\n",
            "Epoch 52/100\n",
            "240/240 [==============================] - 0s 1ms/step - loss: 21.2066\n",
            "Epoch 53/100\n",
            "240/240 [==============================] - 0s 1ms/step - loss: 20.9853\n",
            "Epoch 54/100\n",
            "240/240 [==============================] - 0s 1ms/step - loss: 21.0347\n",
            "Epoch 55/100\n",
            "240/240 [==============================] - 0s 1ms/step - loss: 21.1554\n",
            "Epoch 56/100\n",
            "240/240 [==============================] - 0s 1ms/step - loss: 21.0462\n",
            "Epoch 57/100\n",
            "240/240 [==============================] - 0s 1ms/step - loss: 20.9505\n",
            "Epoch 58/100\n",
            "240/240 [==============================] - 0s 1ms/step - loss: 21.1164\n",
            "Epoch 59/100\n",
            "240/240 [==============================] - 0s 1ms/step - loss: 20.9261\n",
            "Epoch 60/100\n",
            "240/240 [==============================] - 0s 1ms/step - loss: 20.9580\n",
            "Epoch 61/100\n",
            "240/240 [==============================] - 0s 1ms/step - loss: 21.0202\n",
            "Epoch 62/100\n",
            "240/240 [==============================] - 0s 1ms/step - loss: 21.0936\n",
            "Epoch 63/100\n",
            "240/240 [==============================] - 0s 1ms/step - loss: 20.8200\n",
            "Epoch 64/100\n",
            "240/240 [==============================] - 0s 1ms/step - loss: 20.8419\n",
            "Epoch 65/100\n",
            "240/240 [==============================] - 0s 1ms/step - loss: 21.0509\n",
            "Epoch 66/100\n",
            "240/240 [==============================] - 0s 1ms/step - loss: 20.8549\n",
            "Epoch 67/100\n",
            "240/240 [==============================] - 0s 1ms/step - loss: 20.8122\n",
            "Epoch 68/100\n",
            "240/240 [==============================] - 0s 1ms/step - loss: 20.8619\n",
            "Epoch 69/100\n",
            "240/240 [==============================] - 0s 1ms/step - loss: 20.7283\n",
            "Epoch 70/100\n",
            "240/240 [==============================] - 0s 1ms/step - loss: 20.8437\n",
            "Epoch 71/100\n",
            "240/240 [==============================] - 0s 1ms/step - loss: 20.8230\n",
            "Epoch 72/100\n",
            "240/240 [==============================] - 0s 1ms/step - loss: 20.7767\n",
            "Epoch 73/100\n",
            "240/240 [==============================] - 0s 1ms/step - loss: 20.9402\n",
            "Epoch 74/100\n",
            "240/240 [==============================] - 0s 1ms/step - loss: 20.8534\n",
            "Epoch 75/100\n",
            "240/240 [==============================] - 0s 1ms/step - loss: 20.8051\n",
            "Epoch 76/100\n",
            "240/240 [==============================] - 0s 1ms/step - loss: 20.7870\n",
            "Epoch 77/100\n",
            "240/240 [==============================] - 0s 1ms/step - loss: 20.7836\n",
            "Epoch 78/100\n",
            "240/240 [==============================] - 0s 1ms/step - loss: 20.7744\n",
            "Epoch 79/100\n",
            "240/240 [==============================] - 0s 1ms/step - loss: 20.7977\n",
            "Epoch 80/100\n",
            "240/240 [==============================] - 0s 1ms/step - loss: 20.7654\n",
            "Epoch 81/100\n",
            "240/240 [==============================] - 0s 1ms/step - loss: 20.7629\n",
            "Epoch 82/100\n",
            "240/240 [==============================] - 0s 1ms/step - loss: 20.6155\n",
            "Epoch 83/100\n",
            "240/240 [==============================] - 0s 1ms/step - loss: 20.8810\n",
            "Epoch 84/100\n",
            "240/240 [==============================] - 0s 1ms/step - loss: 20.8031\n",
            "Epoch 85/100\n",
            "240/240 [==============================] - 0s 1ms/step - loss: 20.7334\n",
            "Epoch 86/100\n",
            "240/240 [==============================] - 0s 1ms/step - loss: 20.6092\n",
            "Epoch 87/100\n",
            "240/240 [==============================] - 0s 1ms/step - loss: 20.6354\n",
            "Epoch 88/100\n",
            "240/240 [==============================] - 0s 1ms/step - loss: 20.6669\n",
            "Epoch 89/100\n",
            "240/240 [==============================] - 0s 1ms/step - loss: 20.7850\n",
            "Epoch 90/100\n",
            "240/240 [==============================] - 0s 1ms/step - loss: 20.7705\n",
            "Epoch 91/100\n",
            "240/240 [==============================] - 0s 1ms/step - loss: 20.6006\n",
            "Epoch 92/100\n",
            "240/240 [==============================] - 0s 1ms/step - loss: 20.8931\n",
            "Epoch 93/100\n",
            "240/240 [==============================] - 0s 1ms/step - loss: 20.6693\n",
            "Epoch 94/100\n",
            "240/240 [==============================] - 0s 1ms/step - loss: 20.6968\n",
            "Epoch 95/100\n",
            "240/240 [==============================] - 0s 1ms/step - loss: 20.6056\n",
            "Epoch 96/100\n",
            "240/240 [==============================] - 0s 1ms/step - loss: 20.7665\n",
            "Epoch 97/100\n",
            "240/240 [==============================] - 0s 1ms/step - loss: 20.6094\n",
            "Epoch 98/100\n",
            "240/240 [==============================] - 0s 1ms/step - loss: 20.6871\n",
            "Epoch 99/100\n",
            "240/240 [==============================] - 0s 1ms/step - loss: 20.5945\n",
            "Epoch 100/100\n",
            "240/240 [==============================] - 0s 1ms/step - loss: 20.5862\n"
          ]
        },
        {
          "output_type": "execute_result",
          "data": {
            "text/plain": [
              "<keras.callbacks.History at 0x7ff4d5156410>"
            ]
          },
          "metadata": {},
          "execution_count": 10
        }
      ]
    },
    {
      "cell_type": "markdown",
      "metadata": {
        "id": "0H0zKKNEBLD5"
      },
      "source": [
        "### Predicting the results of the Test set"
      ]
    },
    {
      "cell_type": "code",
      "source": [
        "y_pred = ann.predict(X_test)\n",
        "np.set_printoptions(precision=2)\n",
        "print(np.concatenate((y_pred.reshape(len(y_pred),1), y_test.reshape(len(y_test),1)),1))"
      ],
      "metadata": {
        "colab": {
          "base_uri": "https://localhost:8080/"
        },
        "id": "_8X22suSu_Zs",
        "outputId": "58a6531b-5289-48ca-9736-a5fb362a0813"
      },
      "execution_count": null,
      "outputs": [
        {
          "output_type": "stream",
          "name": "stdout",
          "text": [
            "[[431.57 431.23]\n",
            " [459.37 460.01]\n",
            " [464.02 461.14]\n",
            " ...\n",
            " [470.39 473.26]\n",
            " [442.12 438.  ]\n",
            " [461.99 463.28]]\n"
          ]
        }
      ]
    },
    {
      "cell_type": "markdown",
      "source": [
        "### Calculating the R-Squared Value for our Model:"
      ],
      "metadata": {
        "id": "g3_TcGtL5LTT"
      }
    },
    {
      "cell_type": "code",
      "source": [
        "import statsmodels.api as sm\n",
        "model = sm.OLS(y_test, X_test).fit()\n",
        "print(model.rsquared)"
      ],
      "metadata": {
        "colab": {
          "base_uri": "https://localhost:8080/"
        },
        "id": "3c6o7W613pJ5",
        "outputId": "e8570169-a413-4694-b437-6a883b47da66"
      },
      "execution_count": null,
      "outputs": [
        {
          "output_type": "stream",
          "name": "stdout",
          "text": [
            "0.008777862767672229\n"
          ]
        }
      ]
    }
  ]
}